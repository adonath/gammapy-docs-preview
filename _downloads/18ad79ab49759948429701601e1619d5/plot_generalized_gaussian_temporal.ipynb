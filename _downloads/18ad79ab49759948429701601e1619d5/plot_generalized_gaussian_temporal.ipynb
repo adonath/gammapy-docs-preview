{
  "cells": [
    {
      "cell_type": "code",
      "execution_count": null,
      "metadata": {
        "collapsed": false
      },
      "outputs": [],
      "source": [
        "%matplotlib inline"
      ]
    },
    {
      "cell_type": "markdown",
      "metadata": {},
      "source": [
        "\n\n# Generalized Gaussian temporal model\n\nThis model parametrises a generalized Gaussian time model.\n\n\n\\begin{align}F(t) = exp( - 0.5 * (\\frac{|t - t_{ref}|}{t_rise}) ^ {1 / \\eta})   for  t < t_ref\n            \n        F(t) = exp( - 0.5 * (\\frac{|t - t_{ref}|}{t_decay}) ^ {1 / \\eta})   for  t > t_ref\\end{align}\n"
      ]
    },
    {
      "cell_type": "markdown",
      "metadata": {},
      "source": [
        "## Example plot\nHere is an example plot of the model:\n\n"
      ]
    },
    {
      "cell_type": "code",
      "execution_count": null,
      "metadata": {
        "collapsed": false
      },
      "outputs": [],
      "source": [
        "from astropy import units as u\nfrom astropy.units import Quantity\nfrom astropy.time import Time\nimport matplotlib.pyplot as plt\nfrom gammapy.modeling.models import (GeneralizedGaussianTemporalModel,\n    Models,\n    PowerLawSpectralModel,\n    SkyModel)\n\nt_rise = Quantity(0.1, \"d\")\nt_decay = Quantity(1, \"d\")\neta = Quantity(2/3, \"\")\nt_ref = Time(\"2020-10-01\")\ntime_range = [t_ref - 1 * u.d, t_ref + 1 * u.d]\ngen_gaussian_model = GeneralizedGaussianTemporalModel(t_ref = t_ref.mjd * u.d,\\\n                                                  t_rise = t_rise,\\\n                                                  t_decay = t_decay,\\\n                                                  eta = eta)\ngen_gaussian_model.plot(time_range)\nplt.grid(which=\"both\")"
      ]
    },
    {
      "cell_type": "markdown",
      "metadata": {},
      "source": [
        "## YAML representation\nHere is an example YAML file using the model:\n\n"
      ]
    },
    {
      "cell_type": "code",
      "execution_count": null,
      "metadata": {
        "collapsed": false
      },
      "outputs": [],
      "source": [
        "model = SkyModel(\n    spectral_model=PowerLawSpectralModel(),\n    temporal_model=gen_gaussian_model,\n    name=\"generalized_gaussian_model\",\n)\nmodels = Models([model])\n\nprint(models.to_yaml())"
      ]
    }
  ],
  "metadata": {
    "kernelspec": {
      "display_name": "Python 3",
      "language": "python",
      "name": "python3"
    },
    "language_info": {
      "codemirror_mode": {
        "name": "ipython",
        "version": 3
      },
      "file_extension": ".py",
      "mimetype": "text/x-python",
      "name": "python",
      "nbconvert_exporter": "python",
      "pygments_lexer": "ipython3",
      "version": "3.9.0"
    }
  },
  "nbformat": 4,
  "nbformat_minor": 0
}